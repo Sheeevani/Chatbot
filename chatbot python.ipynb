{
 "cells": [
  {
   "cell_type": "code",
   "execution_count": null,
   "id": "84a0a92c",
   "metadata": {},
   "outputs": [],
   "source": [
    "import random                                                         #sirf to generate random variables\n",
    "var1=['hi','hello','namaste','asalam waliqum']                         #ye sare questions hai\n",
    "var2=['how are you', 'how are you doing', 'how you doing','kya kar rahe hai aap','how is your health','how was your day dear']\n",
    "var3=['what is your name', 'how do i call you ','your name please ']\n",
    "var4=['what should i learn','programming language']\n",
    "var5=['what are your hobbies','hobbies','what do you do in free time ']\n",
    "\n",
    "while True:                                                         #kuch bhi likhoge iske andar wo true hoga\n",
    "    user_input=input(\"Sheevani said to bot : \")                      #msg likhke aega phle fir agey input hoga\n",
    "    if user_input.lower() in var1:\n",
    "        bot1=['hello','namaste','asalam waliqum','hi'] \n",
    "        print('Bot replied to Sheevani : '+ random.choice(bot1)+'\\n')\n",
    "    elif user_input.lower() in var2:                                 #elif tbhi execute hoa jab if failed hoga . elif if true then next elifs ni honge execute\n",
    "        bot2=['I am good, how are you dear','mai achi hu, aap kaise hai','I am doing good']\n",
    "        print('Bot replied to Sheevani : '+ random.choice(bot2)+'\\n')\n",
    "    elif user_input.lower() in var3:                                 #elif tbhi execute hoa jab if failed hoga . elif if true then next elifs ni honge execute\n",
    "        bot3=['Call me Chatterbot','Chatterbot','My name is Chatterbot']\n",
    "        print('Bot replied to Sheevani : '+ random.choice(bot3)+'\\n')\n",
    "    elif user_input.lower() in var4:                                 #elif tbhi execute hoa jab if failed hoga . elif if true then next elifs ni honge execute\n",
    "        bot4=['python','python programming language']\n",
    "        print('Bot replied to Sheevani : '+ random.choice(bot4)+'\\n')\n",
    "    elif user_input.lower() in var5:                                 #elif tbhi execute hoa jab if failed hoga . elif if true then next elifs ni honge execute\n",
    "        bot5=['baatein karna acha lagta hai','love to chat','i enjoy chatting']\n",
    "        print('Bot replied to Sheevani : '+ random.choice(bot5)+'\\n')\n",
    "    else:\n",
    "        print('Bot replied to Sheevani : '+'Sorry what are you asking, i am not getting'+'\\n')\n",
    "        \n",
    "        \n",
    "    \n",
    "    "
   ]
  },
  {
   "cell_type": "code",
   "execution_count": null,
   "id": "128c2413",
   "metadata": {},
   "outputs": [],
   "source": []
  }
 ],
 "metadata": {
  "kernelspec": {
   "display_name": "Python 3 (ipykernel)",
   "language": "python",
   "name": "python3"
  },
  "language_info": {
   "codemirror_mode": {
    "name": "ipython",
    "version": 3
   },
   "file_extension": ".py",
   "mimetype": "text/x-python",
   "name": "python",
   "nbconvert_exporter": "python",
   "pygments_lexer": "ipython3",
   "version": "3.9.12"
  }
 },
 "nbformat": 4,
 "nbformat_minor": 5
}
